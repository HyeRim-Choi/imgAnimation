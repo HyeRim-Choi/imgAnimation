{
  "nbformat": 4,
  "nbformat_minor": 0,
  "metadata": {
    "colab": {
      "private_outputs": true,
      "provenance": [],
      "machine_shape": "hm",
      "authorship_tag": "ABX9TyPoP9HyCAdwbFcOvUPEoyHn",
      "include_colab_link": true
    },
    "kernelspec": {
      "name": "python3",
      "display_name": "Python 3"
    },
    "accelerator": "GPU"
  },
  "cells": [
    {
      "cell_type": "markdown",
      "metadata": {
        "id": "view-in-github",
        "colab_type": "text"
      },
      "source": [
        "<a href=\"https://colab.research.google.com/github/HyeRim-Choi/imgAnimation/blob/main/imgAnimation.ipynb\" target=\"_parent\"><img src=\"https://colab.research.google.com/assets/colab-badge.svg\" alt=\"Open In Colab\"/></a>"
      ]
    },
    {
      "cell_type": "markdown",
      "source": [
        "# **라이브러리 설치**"
      ],
      "metadata": {
        "id": "C2wWm7ZTMYJT"
      }
    },
    {
      "cell_type": "code",
      "metadata": {
        "id": "_jgRPAzGeiDL"
      },
      "source": [
        "# Python 에서 YAML 파일을 파싱하거나, 반대로 Python 객체를 YAML 파일로 내보낼 때 사용하는 라이브러리\n",
        "!pip install PyYAML==5.3.1"
      ],
      "execution_count": null,
      "outputs": []
    },
    {
      "cell_type": "code",
      "source": [
        "# 이미지를 처리하기 위한 파이썬 모듈\n",
        "!pip install imageio-ffmpeg"
      ],
      "metadata": {
        "id": "86yikuiZRhBa"
      },
      "execution_count": null,
      "outputs": []
    },
    {
      "cell_type": "code",
      "source": [
        "# 동영상을 처리하기 위한 파이썬 모듈\n",
        "!pip install ffmpeg"
      ],
      "metadata": {
        "id": "_aeZQD5nRim4"
      },
      "execution_count": null,
      "outputs": []
    },
    {
      "cell_type": "markdown",
      "source": [
        "# **코드 불러오기 및 경로 설정**"
      ],
      "metadata": {
        "id": "gHiEjLTDMjXy"
      }
    },
    {
      "cell_type": "code",
      "metadata": {
        "id": "RC2NX-TXwtcf"
      },
      "source": [
        "!git clone https://github.com/AliaksandrSiarohin/first-order-model"
      ],
      "execution_count": null,
      "outputs": []
    },
    {
      "cell_type": "code",
      "source": [
        "cd first-order-model"
      ],
      "metadata": {
        "id": "53ukoD9131jN"
      },
      "execution_count": null,
      "outputs": []
    },
    {
      "cell_type": "code",
      "metadata": {
        "id": "TC6r7XFvxtVp"
      },
      "source": [
        "from google.colab import drive\n",
        "drive.mount('/content/gdrive')"
      ],
      "execution_count": null,
      "outputs": []
    },
    {
      "cell_type": "markdown",
      "source": [
        "# **이미지 resize**"
      ],
      "metadata": {
        "id": "9i580m1up7pS"
      }
    },
    {
      "cell_type": "code",
      "metadata": {
        "id": "yYOxajF5iDmt"
      },
      "source": [
        "from PIL import Image\n",
        "image1 = Image.open('/content/gdrive/MyDrive/first-order-motion-model/yu_01.png')\n",
        "# image1 = Image.open('/content/gdrive/MyDrive/first-order-motion-model/mona.jpg')\n",
        "# image1 = Image.open('/content/gdrive/MyDrive/first-order-motion-model/jico_01.png')\n",
        "imag1_size = image1.size\n",
        "print(imag1_size)\n",
        "\n",
        "# 이미지 resize\n",
        "image1 = image1.resize((280,280)) \n",
        "image1.show()\n",
        "imag1_size = image1.size\n",
        "print(imag1_size)\n",
        "image1.save(\"../image.png\",'PNG')"
      ],
      "execution_count": null,
      "outputs": []
    },
    {
      "cell_type": "markdown",
      "source": [
        "# **FFmpeg을 사용하여 mp4 영상을 crop**"
      ],
      "metadata": {
        "id": "F7EM1c4mMuU-"
      }
    },
    {
      "cell_type": "code",
      "metadata": {
        "id": "WINXswgjObMX"
      },
      "source": [
        "!ffmpeg -i /content/gdrive/My\\ Drive/first-order-motion-model/iusu.mp4 -ss 00:00:0.0 -t 00:00:26.28 -filter:v \"crop=280:280:500:70\" -async 1 video.mp4"
      ],
      "execution_count": null,
      "outputs": []
    },
    {
      "cell_type": "markdown",
      "source": [
        "# **영상에서 오디오 추출**"
      ],
      "metadata": {
        "id": "xiNlwU2vdiBx"
      }
    },
    {
      "cell_type": "code",
      "source": [
        "!ffmpeg -i video.mp4 audio.mp3"
      ],
      "metadata": {
        "id": "MJ_MUpx5cV5W"
      },
      "execution_count": null,
      "outputs": []
    },
    {
      "cell_type": "markdown",
      "source": [
        "# **입력영상과 사진 불러오기**"
      ],
      "metadata": {
        "id": "J8Yv3PfjM9ou"
      }
    },
    {
      "cell_type": "code",
      "metadata": {
        "id": "4l0mXi2pObUD"
      },
      "source": [
        "import imageio\n",
        "import numpy as np\n",
        "import matplotlib.pyplot as plt\n",
        "import matplotlib.animation as animation\n",
        "from skimage.transform import resize\n",
        "from IPython.display import HTML\n",
        "import warnings\n",
        "warnings.filterwarnings(\"ignore\")\n",
        "\n",
        "# 입력 이미지\n",
        "source_image = imageio.imread('../image.png')\n",
        "# 입력 영상\n",
        "reader = imageio.get_reader('video.mp4')\n",
        "\n",
        "\n",
        "# 이미지와 영상 256x256로 resize\n",
        "source_image = resize(source_image, (256, 256))[..., :3]\n",
        "\n",
        "fps = reader.get_meta_data()['fps']\n",
        "driving_video = []\n",
        "try:\n",
        "    for im in reader:\n",
        "        driving_video.append(im)\n",
        "except RuntimeError:\n",
        "    pass\n",
        "reader.close()\n",
        "\n",
        "driving_video = [resize(frame, (256, 256))[..., :3] for frame in driving_video]\n",
        "\n",
        "def display(source, driving, generated=None):\n",
        "    fig = plt.figure(figsize=(8 + 4 * (generated is not None), 6))\n",
        "\n",
        "    ims = []\n",
        "    for i in range(len(driving)):\n",
        "        cols = [source]\n",
        "        cols.append(driving[i])\n",
        "        if generated is not None:\n",
        "            cols.append(generated[i])\n",
        "        im = plt.imshow(np.concatenate(cols, axis=1), animated=True)\n",
        "        plt.axis('off')\n",
        "        ims.append([im])\n",
        "\n",
        "    ani = animation.ArtistAnimation(fig, ims, interval=50, repeat_delay=1000)\n",
        "    plt.close()\n",
        "    return ani\n",
        "HTML(display(source_image, driving_video).to_html5_video())"
      ],
      "execution_count": null,
      "outputs": []
    },
    {
      "cell_type": "markdown",
      "source": [
        "# **영상 만들기**"
      ],
      "metadata": {
        "id": "GTCHEZFwNrHh"
      }
    },
    {
      "cell_type": "code",
      "metadata": {
        "id": "izO9Et8GOmPD"
      },
      "source": [
        "from demo import load_checkpoints\n",
        "generator, kp_detector = load_checkpoints(config_path='config/vox-256.yaml', \n",
        "                            checkpoint_path='/content/gdrive/My Drive/first-order-motion-model/vox-cpk.pth.tar')"
      ],
      "execution_count": null,
      "outputs": []
    },
    {
      "cell_type": "code",
      "metadata": {
        "id": "Z0ucUVGNP_A9"
      },
      "source": [
        "from demo import make_animation\n",
        "from skimage import img_as_ubyte\n",
        "\n",
        "predictions = make_animation(source_image, driving_video, generator, kp_detector, relative=True)\n",
        "\n",
        "# 완성된 영상 저장\n",
        "imageio.mimsave('../finishedVideo.mp4', [img_as_ubyte(frame) for frame in predictions], fps=fps)\n",
        "\n",
        "HTML(display(source_image, driving_video, predictions).to_html5_video())"
      ],
      "execution_count": null,
      "outputs": []
    },
    {
      "cell_type": "markdown",
      "source": [
        "# **완성된 mp4영상과 추출한 mp3 파일 합치기**"
      ],
      "metadata": {
        "id": "RP4ya1-GgYAo"
      }
    },
    {
      "cell_type": "code",
      "source": [
        "!ffmpeg -i '../finishedVideo.mp4' -i audio.mp3 -c copy finalVer.mp4"
      ],
      "metadata": {
        "id": "4qm5f3tWe3vx"
      },
      "execution_count": null,
      "outputs": []
    }
  ]
}